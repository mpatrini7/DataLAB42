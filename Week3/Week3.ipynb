{
  "nbformat": 4,
  "nbformat_minor": 0,
  "metadata": {
    "colab": {
      "name": "Week3",
      "provenance": [],
      "collapsed_sections": [],
      "include_colab_link": true
    },
    "kernelspec": {
      "name": "python3",
      "display_name": "Python 3"
    },
    "language_info": {
      "name": "python"
    }
  },
  "cells": [
    {
      "cell_type": "markdown",
      "metadata": {
        "id": "view-in-github",
        "colab_type": "text"
      },
      "source": [
        "<a href=\"https://colab.research.google.com/github/mpatrini7/DataLAB42/blob/main/Week3/Week3.ipynb\" target=\"_parent\"><img src=\"https://colab.research.google.com/assets/colab-badge.svg\" alt=\"Open In Colab\"/></a>"
      ]
    },
    {
      "cell_type": "markdown",
      "source": [
        "mpatrini - Michael Patrini"
      ],
      "metadata": {
        "id": "n-HpicqMiMn9"
      }
    },
    {
      "cell_type": "code",
      "source": [
        "import pandas as pd"
      ],
      "metadata": {
        "id": "Wt_X28dtleze"
      },
      "execution_count": 316,
      "outputs": []
    },
    {
      "cell_type": "markdown",
      "source": [
        "**1.Check the head of the dataset**"
      ],
      "metadata": {
        "id": "U8HGqMD2j1LW"
      }
    },
    {
      "cell_type": "code",
      "source": [
        "sal = pd.read_csv(\"datasets/Salaries.csv\")\n",
        "sal.head()"
      ],
      "metadata": {
        "colab": {
          "base_uri": "https://localhost:8080/",
          "height": 531
        },
        "id": "HW3wxv5Ej6dN",
        "outputId": "90eccfde-2d63-4df5-c247-a9cf144b5e7b"
      },
      "execution_count": 317,
      "outputs": [
        {
          "output_type": "execute_result",
          "data": {
            "text/plain": [
              "   Id       EmployeeName                                        JobTitle  \\\n",
              "0   1     NATHANIEL FORD  GENERAL MANAGER-METROPOLITAN TRANSIT AUTHORITY   \n",
              "1   2       GARY JIMENEZ                 CAPTAIN III (POLICE DEPARTMENT)   \n",
              "2   3     ALBERT PARDINI                 CAPTAIN III (POLICE DEPARTMENT)   \n",
              "3   4  CHRISTOPHER CHONG            WIRE ROPE CABLE MAINTENANCE MECHANIC   \n",
              "4   5    PATRICK GARDNER    DEPUTY CHIEF OF DEPARTMENT,(FIRE DEPARTMENT)   \n",
              "\n",
              "     BasePay  OvertimePay   OtherPay  Benefits   TotalPay  TotalPayBenefits  \\\n",
              "0  167411.18         0.00  400184.25       NaN  567595.43         567595.43   \n",
              "1  155966.02    245131.88  137811.38       NaN  538909.28         538909.28   \n",
              "2  212739.13    106088.18   16452.60       NaN  335279.91         335279.91   \n",
              "3   77916.00     56120.71  198306.90       NaN  332343.61         332343.61   \n",
              "4  134401.60      9737.00  182234.59       NaN  326373.19         326373.19   \n",
              "\n",
              "   Year  Notes         Agency  Status  \n",
              "0  2011    NaN  San Francisco     NaN  \n",
              "1  2011    NaN  San Francisco     NaN  \n",
              "2  2011    NaN  San Francisco     NaN  \n",
              "3  2011    NaN  San Francisco     NaN  \n",
              "4  2011    NaN  San Francisco     NaN  "
            ],
            "text/html": [
              "\n",
              "  <div id=\"df-98b3983c-7718-436c-a6c6-bede17a04f95\">\n",
              "    <div class=\"colab-df-container\">\n",
              "      <div>\n",
              "<style scoped>\n",
              "    .dataframe tbody tr th:only-of-type {\n",
              "        vertical-align: middle;\n",
              "    }\n",
              "\n",
              "    .dataframe tbody tr th {\n",
              "        vertical-align: top;\n",
              "    }\n",
              "\n",
              "    .dataframe thead th {\n",
              "        text-align: right;\n",
              "    }\n",
              "</style>\n",
              "<table border=\"1\" class=\"dataframe\">\n",
              "  <thead>\n",
              "    <tr style=\"text-align: right;\">\n",
              "      <th></th>\n",
              "      <th>Id</th>\n",
              "      <th>EmployeeName</th>\n",
              "      <th>JobTitle</th>\n",
              "      <th>BasePay</th>\n",
              "      <th>OvertimePay</th>\n",
              "      <th>OtherPay</th>\n",
              "      <th>Benefits</th>\n",
              "      <th>TotalPay</th>\n",
              "      <th>TotalPayBenefits</th>\n",
              "      <th>Year</th>\n",
              "      <th>Notes</th>\n",
              "      <th>Agency</th>\n",
              "      <th>Status</th>\n",
              "    </tr>\n",
              "  </thead>\n",
              "  <tbody>\n",
              "    <tr>\n",
              "      <th>0</th>\n",
              "      <td>1</td>\n",
              "      <td>NATHANIEL FORD</td>\n",
              "      <td>GENERAL MANAGER-METROPOLITAN TRANSIT AUTHORITY</td>\n",
              "      <td>167411.18</td>\n",
              "      <td>0.00</td>\n",
              "      <td>400184.25</td>\n",
              "      <td>NaN</td>\n",
              "      <td>567595.43</td>\n",
              "      <td>567595.43</td>\n",
              "      <td>2011</td>\n",
              "      <td>NaN</td>\n",
              "      <td>San Francisco</td>\n",
              "      <td>NaN</td>\n",
              "    </tr>\n",
              "    <tr>\n",
              "      <th>1</th>\n",
              "      <td>2</td>\n",
              "      <td>GARY JIMENEZ</td>\n",
              "      <td>CAPTAIN III (POLICE DEPARTMENT)</td>\n",
              "      <td>155966.02</td>\n",
              "      <td>245131.88</td>\n",
              "      <td>137811.38</td>\n",
              "      <td>NaN</td>\n",
              "      <td>538909.28</td>\n",
              "      <td>538909.28</td>\n",
              "      <td>2011</td>\n",
              "      <td>NaN</td>\n",
              "      <td>San Francisco</td>\n",
              "      <td>NaN</td>\n",
              "    </tr>\n",
              "    <tr>\n",
              "      <th>2</th>\n",
              "      <td>3</td>\n",
              "      <td>ALBERT PARDINI</td>\n",
              "      <td>CAPTAIN III (POLICE DEPARTMENT)</td>\n",
              "      <td>212739.13</td>\n",
              "      <td>106088.18</td>\n",
              "      <td>16452.60</td>\n",
              "      <td>NaN</td>\n",
              "      <td>335279.91</td>\n",
              "      <td>335279.91</td>\n",
              "      <td>2011</td>\n",
              "      <td>NaN</td>\n",
              "      <td>San Francisco</td>\n",
              "      <td>NaN</td>\n",
              "    </tr>\n",
              "    <tr>\n",
              "      <th>3</th>\n",
              "      <td>4</td>\n",
              "      <td>CHRISTOPHER CHONG</td>\n",
              "      <td>WIRE ROPE CABLE MAINTENANCE MECHANIC</td>\n",
              "      <td>77916.00</td>\n",
              "      <td>56120.71</td>\n",
              "      <td>198306.90</td>\n",
              "      <td>NaN</td>\n",
              "      <td>332343.61</td>\n",
              "      <td>332343.61</td>\n",
              "      <td>2011</td>\n",
              "      <td>NaN</td>\n",
              "      <td>San Francisco</td>\n",
              "      <td>NaN</td>\n",
              "    </tr>\n",
              "    <tr>\n",
              "      <th>4</th>\n",
              "      <td>5</td>\n",
              "      <td>PATRICK GARDNER</td>\n",
              "      <td>DEPUTY CHIEF OF DEPARTMENT,(FIRE DEPARTMENT)</td>\n",
              "      <td>134401.60</td>\n",
              "      <td>9737.00</td>\n",
              "      <td>182234.59</td>\n",
              "      <td>NaN</td>\n",
              "      <td>326373.19</td>\n",
              "      <td>326373.19</td>\n",
              "      <td>2011</td>\n",
              "      <td>NaN</td>\n",
              "      <td>San Francisco</td>\n",
              "      <td>NaN</td>\n",
              "    </tr>\n",
              "  </tbody>\n",
              "</table>\n",
              "</div>\n",
              "      <button class=\"colab-df-convert\" onclick=\"convertToInteractive('df-98b3983c-7718-436c-a6c6-bede17a04f95')\"\n",
              "              title=\"Convert this dataframe to an interactive table.\"\n",
              "              style=\"display:none;\">\n",
              "        \n",
              "  <svg xmlns=\"http://www.w3.org/2000/svg\" height=\"24px\"viewBox=\"0 0 24 24\"\n",
              "       width=\"24px\">\n",
              "    <path d=\"M0 0h24v24H0V0z\" fill=\"none\"/>\n",
              "    <path d=\"M18.56 5.44l.94 2.06.94-2.06 2.06-.94-2.06-.94-.94-2.06-.94 2.06-2.06.94zm-11 1L8.5 8.5l.94-2.06 2.06-.94-2.06-.94L8.5 2.5l-.94 2.06-2.06.94zm10 10l.94 2.06.94-2.06 2.06-.94-2.06-.94-.94-2.06-.94 2.06-2.06.94z\"/><path d=\"M17.41 7.96l-1.37-1.37c-.4-.4-.92-.59-1.43-.59-.52 0-1.04.2-1.43.59L10.3 9.45l-7.72 7.72c-.78.78-.78 2.05 0 2.83L4 21.41c.39.39.9.59 1.41.59.51 0 1.02-.2 1.41-.59l7.78-7.78 2.81-2.81c.8-.78.8-2.07 0-2.86zM5.41 20L4 18.59l7.72-7.72 1.47 1.35L5.41 20z\"/>\n",
              "  </svg>\n",
              "      </button>\n",
              "      \n",
              "  <style>\n",
              "    .colab-df-container {\n",
              "      display:flex;\n",
              "      flex-wrap:wrap;\n",
              "      gap: 12px;\n",
              "    }\n",
              "\n",
              "    .colab-df-convert {\n",
              "      background-color: #E8F0FE;\n",
              "      border: none;\n",
              "      border-radius: 50%;\n",
              "      cursor: pointer;\n",
              "      display: none;\n",
              "      fill: #1967D2;\n",
              "      height: 32px;\n",
              "      padding: 0 0 0 0;\n",
              "      width: 32px;\n",
              "    }\n",
              "\n",
              "    .colab-df-convert:hover {\n",
              "      background-color: #E2EBFA;\n",
              "      box-shadow: 0px 1px 2px rgba(60, 64, 67, 0.3), 0px 1px 3px 1px rgba(60, 64, 67, 0.15);\n",
              "      fill: #174EA6;\n",
              "    }\n",
              "\n",
              "    [theme=dark] .colab-df-convert {\n",
              "      background-color: #3B4455;\n",
              "      fill: #D2E3FC;\n",
              "    }\n",
              "\n",
              "    [theme=dark] .colab-df-convert:hover {\n",
              "      background-color: #434B5C;\n",
              "      box-shadow: 0px 1px 3px 1px rgba(0, 0, 0, 0.15);\n",
              "      filter: drop-shadow(0px 1px 2px rgba(0, 0, 0, 0.3));\n",
              "      fill: #FFFFFF;\n",
              "    }\n",
              "  </style>\n",
              "\n",
              "      <script>\n",
              "        const buttonEl =\n",
              "          document.querySelector('#df-98b3983c-7718-436c-a6c6-bede17a04f95 button.colab-df-convert');\n",
              "        buttonEl.style.display =\n",
              "          google.colab.kernel.accessAllowed ? 'block' : 'none';\n",
              "\n",
              "        async function convertToInteractive(key) {\n",
              "          const element = document.querySelector('#df-98b3983c-7718-436c-a6c6-bede17a04f95');\n",
              "          const dataTable =\n",
              "            await google.colab.kernel.invokeFunction('convertToInteractive',\n",
              "                                                     [key], {});\n",
              "          if (!dataTable) return;\n",
              "\n",
              "          const docLinkHtml = 'Like what you see? Visit the ' +\n",
              "            '<a target=\"_blank\" href=https://colab.research.google.com/notebooks/data_table.ipynb>data table notebook</a>'\n",
              "            + ' to learn more about interactive tables.';\n",
              "          element.innerHTML = '';\n",
              "          dataTable['output_type'] = 'display_data';\n",
              "          await google.colab.output.renderOutput(dataTable, element);\n",
              "          const docLink = document.createElement('div');\n",
              "          docLink.innerHTML = docLinkHtml;\n",
              "          element.appendChild(docLink);\n",
              "        }\n",
              "      </script>\n",
              "    </div>\n",
              "  </div>\n",
              "  "
            ]
          },
          "metadata": {},
          "execution_count": 317
        }
      ]
    },
    {
      "cell_type": "markdown",
      "source": [
        "**2.Use the .info() method to find out how many entries there are**"
      ],
      "metadata": {
        "id": "plpjMZcUj6xR"
      }
    },
    {
      "cell_type": "code",
      "source": [
        "a = sal.info()\n",
        "a"
      ],
      "metadata": {
        "colab": {
          "base_uri": "https://localhost:8080/"
        },
        "id": "n3j6EFNfj7Ee",
        "outputId": "ed0513bf-b1f5-4ed5-b00c-01fbf6f5a27a"
      },
      "execution_count": 318,
      "outputs": [
        {
          "output_type": "stream",
          "name": "stdout",
          "text": [
            "<class 'pandas.core.frame.DataFrame'>\n",
            "RangeIndex: 148654 entries, 0 to 148653\n",
            "Data columns (total 13 columns):\n",
            " #   Column            Non-Null Count   Dtype  \n",
            "---  ------            --------------   -----  \n",
            " 0   Id                148654 non-null  int64  \n",
            " 1   EmployeeName      148654 non-null  object \n",
            " 2   JobTitle          148654 non-null  object \n",
            " 3   BasePay           148045 non-null  float64\n",
            " 4   OvertimePay       148650 non-null  float64\n",
            " 5   OtherPay          148650 non-null  float64\n",
            " 6   Benefits          112491 non-null  float64\n",
            " 7   TotalPay          148654 non-null  float64\n",
            " 8   TotalPayBenefits  148654 non-null  float64\n",
            " 9   Year              148654 non-null  int64  \n",
            " 10  Notes             0 non-null       float64\n",
            " 11  Agency            148654 non-null  object \n",
            " 12  Status            0 non-null       float64\n",
            "dtypes: float64(8), int64(2), object(3)\n",
            "memory usage: 14.7+ MB\n"
          ]
        }
      ]
    },
    {
      "cell_type": "markdown",
      "source": [
        "**3.Check the highest amount of OvertimePay in the dataset ?**"
      ],
      "metadata": {
        "id": "qrAALV0nj7Nq"
      }
    },
    {
      "cell_type": "code",
      "source": [
        "a = sal['OvertimePay'].max()\n",
        "a"
      ],
      "metadata": {
        "colab": {
          "base_uri": "https://localhost:8080/"
        },
        "id": "0-V5XnPqj7Wz",
        "outputId": "4aa53ec5-7aa6-42f3-8d77-30f4f54b1322"
      },
      "execution_count": 319,
      "outputs": [
        {
          "output_type": "execute_result",
          "data": {
            "text/plain": [
              "245131.88"
            ]
          },
          "metadata": {},
          "execution_count": 319
        }
      ]
    },
    {
      "cell_type": "markdown",
      "source": [
        "**4.What is the job title of JOSEPH DRISCOLL ?**"
      ],
      "metadata": {
        "id": "eK8QetGbj7gR"
      }
    },
    {
      "cell_type": "code",
      "source": [
        "a = sal.loc[sal['EmployeeName'] == 'JOSEPH DRISCOLL','JobTitle'].values[0]\n",
        "a"
      ],
      "metadata": {
        "colab": {
          "base_uri": "https://localhost:8080/",
          "height": 35
        },
        "id": "SYT8e1Lvj7oO",
        "outputId": "ec690089-d781-4d62-f180-ba6825e15ce8"
      },
      "execution_count": 320,
      "outputs": [
        {
          "output_type": "execute_result",
          "data": {
            "text/plain": [
              "'CAPTAIN, FIRE SUPPRESSION'"
            ],
            "application/vnd.google.colaboratory.intrinsic+json": {
              "type": "string"
            }
          },
          "metadata": {},
          "execution_count": 320
        }
      ]
    },
    {
      "cell_type": "markdown",
      "source": [
        "**5.How much does JOSEPH DRISCOLL make (including benefits)?**"
      ],
      "metadata": {
        "id": "OXRqX8QVj7wL"
      }
    },
    {
      "cell_type": "code",
      "source": [
        "a = sal.loc[sal['EmployeeName'] == 'JOSEPH DRISCOLL','TotalPayBenefits'].values[0]\n",
        "a"
      ],
      "metadata": {
        "colab": {
          "base_uri": "https://localhost:8080/"
        },
        "id": "gdmlb_kRj74Y",
        "outputId": "f0cf9de2-f8cf-484d-8400-0bed731b1b27"
      },
      "execution_count": 321,
      "outputs": [
        {
          "output_type": "execute_result",
          "data": {
            "text/plain": [
              "270324.91"
            ]
          },
          "metadata": {},
          "execution_count": 321
        }
      ]
    },
    {
      "cell_type": "markdown",
      "source": [
        "**6.What is the name of highest paid person (including benefits)?**"
      ],
      "metadata": {
        "id": "pVlRTO4hj8BG"
      }
    },
    {
      "cell_type": "code",
      "source": [
        "a = sal.loc[sal['TotalPayBenefits'] == sal['TotalPayBenefits'].max(),'EmployeeName'].values[0]\n",
        "a"
      ],
      "metadata": {
        "colab": {
          "base_uri": "https://localhost:8080/",
          "height": 35
        },
        "id": "401uunRIj8Jk",
        "outputId": "ad5788a2-06b2-440c-9a44-3a93b55408a8"
      },
      "execution_count": 322,
      "outputs": [
        {
          "output_type": "execute_result",
          "data": {
            "text/plain": [
              "'NATHANIEL FORD'"
            ],
            "application/vnd.google.colaboratory.intrinsic+json": {
              "type": "string"
            }
          },
          "metadata": {},
          "execution_count": 322
        }
      ]
    },
    {
      "cell_type": "markdown",
      "source": [
        "**7.What is the name of lowest paid person (including benefits)? Do you notice something strange about how much he or she is paid?**"
      ],
      "metadata": {
        "id": "iXVd7fL5kfYq"
      }
    },
    {
      "cell_type": "code",
      "source": [
        "a = sal.loc[sal['TotalPayBenefits'] == sal['TotalPayBenefits'].min(),'EmployeeName'].values[0]\n",
        "print(a)\n",
        "print(\"Negative paycheck\")"
      ],
      "metadata": {
        "colab": {
          "base_uri": "https://localhost:8080/"
        },
        "id": "5lWq7v1vkfoH",
        "outputId": "e8c5229d-536a-4d00-d888-216f8352306f"
      },
      "execution_count": 323,
      "outputs": [
        {
          "output_type": "stream",
          "name": "stdout",
          "text": [
            "Joe Lopez\n",
            "Negative paycheck\n"
          ]
        }
      ]
    },
    {
      "cell_type": "markdown",
      "source": [
        "**8.What was the average (mean) BasePay of all employees per year? (2011- 2014) ?**"
      ],
      "metadata": {
        "id": "F3VBLiXkkfzV"
      }
    },
    {
      "cell_type": "code",
      "source": [
        "# a = sal.loc[sal['Year'] == 2011,'BasePay']\n",
        "# print(\"2011: {:.2f}\".format(a.mean()))\n",
        "# a = sal.loc[sal['Year'] == 2012,'BasePay']\n",
        "# print(\"2012: {:.2f}\".format(a.mean()))\n",
        "# a = sal.loc[sal['Year'] == 2013,'BasePay']\n",
        "# print(\"2013: {:.2f}\".format(a.mean()))\n",
        "# a = sal.loc[sal['Year'] == 2014,'BasePay']\n",
        "# print(\"2014: {:.2f}\".format(a.mean()))\n",
        "sal.groupby('Year').mean()['BasePay']"
      ],
      "metadata": {
        "colab": {
          "base_uri": "https://localhost:8080/"
        },
        "id": "Q66EDsHMkf9X",
        "outputId": "0a3a8e24-8d86-4292-a455-82bacdb03614"
      },
      "execution_count": 324,
      "outputs": [
        {
          "output_type": "execute_result",
          "data": {
            "text/plain": [
              "Year\n",
              "2011    63595.956517\n",
              "2012    65436.406857\n",
              "2013    69630.030216\n",
              "2014    66564.421924\n",
              "Name: BasePay, dtype: float64"
            ]
          },
          "metadata": {},
          "execution_count": 324
        }
      ]
    },
    {
      "cell_type": "markdown",
      "source": [
        "**How many unique job titles are there?**"
      ],
      "metadata": {
        "id": "_n7GHHU_kypG"
      }
    },
    {
      "cell_type": "code",
      "source": [
        "a = sal['JobTitle'].nunique()\n",
        "a"
      ],
      "metadata": {
        "colab": {
          "base_uri": "https://localhost:8080/"
        },
        "id": "H4reA6ICky3r",
        "outputId": "11394f26-20ac-4904-f63f-e4f7be015a2f"
      },
      "execution_count": 325,
      "outputs": [
        {
          "output_type": "execute_result",
          "data": {
            "text/plain": [
              "2159"
            ]
          },
          "metadata": {},
          "execution_count": 325
        }
      ]
    },
    {
      "cell_type": "markdown",
      "source": [
        "**10.What are the top 5 most common jobs?**"
      ],
      "metadata": {
        "id": "UVF7aV2vk69n"
      }
    },
    {
      "cell_type": "code",
      "source": [
        "a = sal['JobTitle'].value_counts().index.tolist()\n",
        "for i in range(0,5):\n",
        "  print(\"{}: {}\".format(i + 1, a[i]))"
      ],
      "metadata": {
        "colab": {
          "base_uri": "https://localhost:8080/"
        },
        "id": "LX3WeDMPk7We",
        "outputId": "978d55f3-1dba-4c64-be62-daddabd84676"
      },
      "execution_count": 326,
      "outputs": [
        {
          "output_type": "stream",
          "name": "stdout",
          "text": [
            "1: Transit Operator\n",
            "2: Special Nurse\n",
            "3: Registered Nurse\n",
            "4: Public Svc Aide-Public Works\n",
            "5: Police Officer 3\n"
          ]
        }
      ]
    },
    {
      "cell_type": "markdown",
      "source": [
        "**11. How many Job Titles were represented by only one person in 2013? (e.g. Job Titles with only one occurence in 2013?)**"
      ],
      "metadata": {
        "id": "__Acut2zk7ok"
      }
    },
    {
      "cell_type": "code",
      "source": [
        "a = sal.loc[sal['Year'] == 2013,'JobTitle']\n",
        "a = (a.value_counts() == 1).sum()\n",
        "a"
      ],
      "metadata": {
        "colab": {
          "base_uri": "https://localhost:8080/"
        },
        "id": "-V4moLYolCuv",
        "outputId": "33c61982-3e88-48d4-fa44-100508974872"
      },
      "execution_count": 327,
      "outputs": [
        {
          "output_type": "execute_result",
          "data": {
            "text/plain": [
              "202"
            ]
          },
          "metadata": {},
          "execution_count": 327
        }
      ]
    },
    {
      "cell_type": "markdown",
      "source": [
        "**12. How many people have the word Chief in their job title?**"
      ],
      "metadata": {
        "id": "cZOZoTrClDFi"
      }
    },
    {
      "cell_type": "code",
      "source": [
        "# a = sal.JobTitle.str.contains('Chief|CHIEF').sum()\n",
        "a = sum(sal[\"JobTitle\"].apply(lambda x : True if \"chief\" in x.lower() else False))\n",
        "a"
      ],
      "metadata": {
        "colab": {
          "base_uri": "https://localhost:8080/"
        },
        "id": "8Np7SqHNlJbJ",
        "outputId": "74c04ab8-88e1-4fdb-9330-4989b0113c25"
      },
      "execution_count": 328,
      "outputs": [
        {
          "output_type": "execute_result",
          "data": {
            "text/plain": [
              "627"
            ]
          },
          "metadata": {},
          "execution_count": 328
        }
      ]
    },
    {
      "cell_type": "markdown",
      "source": [
        "# ***netflix&chill***"
      ],
      "metadata": {
        "id": "HMVlZcNDXKPC"
      }
    },
    {
      "cell_type": "markdown",
      "source": [
        "**Using the dataset \"titles.csv\", answer these questions graphically - that is - by creating visualizations through matplotlib.**"
      ],
      "metadata": {
        "id": "YZ0HurJNXMEu"
      }
    },
    {
      "cell_type": "code",
      "source": [
        "import matplotlib.pyplot as plt\n",
        "import numpy as np\n",
        "import seaborn as sns\n",
        "import warnings\n",
        "warnings.simplefilter(action='ignore', category=FutureWarning)\n",
        "tit = pd.read_csv(\"datasets/titles.csv\")\n",
        "tit.head()"
      ],
      "metadata": {
        "colab": {
          "base_uri": "https://localhost:8080/",
          "height": 583
        },
        "id": "27ojw2LFXiQ8",
        "outputId": "4cb26479-371e-4102-ee3c-256f8f878446"
      },
      "execution_count": 329,
      "outputs": [
        {
          "output_type": "execute_result",
          "data": {
            "text/plain": [
              "         id                                title   type  \\\n",
              "0  ts300399  Five Came Back: The Reference Films   SHOW   \n",
              "1   tm84618                          Taxi Driver  MOVIE   \n",
              "2  tm127384      Monty Python and the Holy Grail  MOVIE   \n",
              "3   tm70993                        Life of Brian  MOVIE   \n",
              "4  tm190788                         The Exorcist  MOVIE   \n",
              "\n",
              "                                         description  release_year  \\\n",
              "0  This collection includes 12 World War II-era p...          1945   \n",
              "1  A mentally unstable Vietnam War veteran works ...          1976   \n",
              "2  King Arthur, accompanied by his squire, recrui...          1975   \n",
              "3  Brian Cohen is an average young Jewish man, bu...          1979   \n",
              "4  12-year-old Regan MacNeil begins to adapt an e...          1973   \n",
              "\n",
              "  age_certification  runtime                 genres production_countries  \\\n",
              "0             TV-MA       48      ['documentation']               ['US']   \n",
              "1                 R      113     ['crime', 'drama']               ['US']   \n",
              "2                PG       91  ['comedy', 'fantasy']               ['GB']   \n",
              "3                 R       94             ['comedy']               ['GB']   \n",
              "4                 R      133             ['horror']               ['US']   \n",
              "\n",
              "   seasons    imdb_id  imdb_score  imdb_votes  tmdb_popularity  tmdb_score  \n",
              "0      1.0        NaN         NaN         NaN            0.600         NaN  \n",
              "1      NaN  tt0075314         8.3    795222.0           27.612         8.2  \n",
              "2      NaN  tt0071853         8.2    530877.0           18.216         7.8  \n",
              "3      NaN  tt0079470         8.0    392419.0           17.505         7.8  \n",
              "4      NaN  tt0070047         8.1    391942.0           95.337         7.7  "
            ],
            "text/html": [
              "\n",
              "  <div id=\"df-a19a4f63-be1d-4561-b2dd-b9d670346c11\">\n",
              "    <div class=\"colab-df-container\">\n",
              "      <div>\n",
              "<style scoped>\n",
              "    .dataframe tbody tr th:only-of-type {\n",
              "        vertical-align: middle;\n",
              "    }\n",
              "\n",
              "    .dataframe tbody tr th {\n",
              "        vertical-align: top;\n",
              "    }\n",
              "\n",
              "    .dataframe thead th {\n",
              "        text-align: right;\n",
              "    }\n",
              "</style>\n",
              "<table border=\"1\" class=\"dataframe\">\n",
              "  <thead>\n",
              "    <tr style=\"text-align: right;\">\n",
              "      <th></th>\n",
              "      <th>id</th>\n",
              "      <th>title</th>\n",
              "      <th>type</th>\n",
              "      <th>description</th>\n",
              "      <th>release_year</th>\n",
              "      <th>age_certification</th>\n",
              "      <th>runtime</th>\n",
              "      <th>genres</th>\n",
              "      <th>production_countries</th>\n",
              "      <th>seasons</th>\n",
              "      <th>imdb_id</th>\n",
              "      <th>imdb_score</th>\n",
              "      <th>imdb_votes</th>\n",
              "      <th>tmdb_popularity</th>\n",
              "      <th>tmdb_score</th>\n",
              "    </tr>\n",
              "  </thead>\n",
              "  <tbody>\n",
              "    <tr>\n",
              "      <th>0</th>\n",
              "      <td>ts300399</td>\n",
              "      <td>Five Came Back: The Reference Films</td>\n",
              "      <td>SHOW</td>\n",
              "      <td>This collection includes 12 World War II-era p...</td>\n",
              "      <td>1945</td>\n",
              "      <td>TV-MA</td>\n",
              "      <td>48</td>\n",
              "      <td>['documentation']</td>\n",
              "      <td>['US']</td>\n",
              "      <td>1.0</td>\n",
              "      <td>NaN</td>\n",
              "      <td>NaN</td>\n",
              "      <td>NaN</td>\n",
              "      <td>0.600</td>\n",
              "      <td>NaN</td>\n",
              "    </tr>\n",
              "    <tr>\n",
              "      <th>1</th>\n",
              "      <td>tm84618</td>\n",
              "      <td>Taxi Driver</td>\n",
              "      <td>MOVIE</td>\n",
              "      <td>A mentally unstable Vietnam War veteran works ...</td>\n",
              "      <td>1976</td>\n",
              "      <td>R</td>\n",
              "      <td>113</td>\n",
              "      <td>['crime', 'drama']</td>\n",
              "      <td>['US']</td>\n",
              "      <td>NaN</td>\n",
              "      <td>tt0075314</td>\n",
              "      <td>8.3</td>\n",
              "      <td>795222.0</td>\n",
              "      <td>27.612</td>\n",
              "      <td>8.2</td>\n",
              "    </tr>\n",
              "    <tr>\n",
              "      <th>2</th>\n",
              "      <td>tm127384</td>\n",
              "      <td>Monty Python and the Holy Grail</td>\n",
              "      <td>MOVIE</td>\n",
              "      <td>King Arthur, accompanied by his squire, recrui...</td>\n",
              "      <td>1975</td>\n",
              "      <td>PG</td>\n",
              "      <td>91</td>\n",
              "      <td>['comedy', 'fantasy']</td>\n",
              "      <td>['GB']</td>\n",
              "      <td>NaN</td>\n",
              "      <td>tt0071853</td>\n",
              "      <td>8.2</td>\n",
              "      <td>530877.0</td>\n",
              "      <td>18.216</td>\n",
              "      <td>7.8</td>\n",
              "    </tr>\n",
              "    <tr>\n",
              "      <th>3</th>\n",
              "      <td>tm70993</td>\n",
              "      <td>Life of Brian</td>\n",
              "      <td>MOVIE</td>\n",
              "      <td>Brian Cohen is an average young Jewish man, bu...</td>\n",
              "      <td>1979</td>\n",
              "      <td>R</td>\n",
              "      <td>94</td>\n",
              "      <td>['comedy']</td>\n",
              "      <td>['GB']</td>\n",
              "      <td>NaN</td>\n",
              "      <td>tt0079470</td>\n",
              "      <td>8.0</td>\n",
              "      <td>392419.0</td>\n",
              "      <td>17.505</td>\n",
              "      <td>7.8</td>\n",
              "    </tr>\n",
              "    <tr>\n",
              "      <th>4</th>\n",
              "      <td>tm190788</td>\n",
              "      <td>The Exorcist</td>\n",
              "      <td>MOVIE</td>\n",
              "      <td>12-year-old Regan MacNeil begins to adapt an e...</td>\n",
              "      <td>1973</td>\n",
              "      <td>R</td>\n",
              "      <td>133</td>\n",
              "      <td>['horror']</td>\n",
              "      <td>['US']</td>\n",
              "      <td>NaN</td>\n",
              "      <td>tt0070047</td>\n",
              "      <td>8.1</td>\n",
              "      <td>391942.0</td>\n",
              "      <td>95.337</td>\n",
              "      <td>7.7</td>\n",
              "    </tr>\n",
              "  </tbody>\n",
              "</table>\n",
              "</div>\n",
              "      <button class=\"colab-df-convert\" onclick=\"convertToInteractive('df-a19a4f63-be1d-4561-b2dd-b9d670346c11')\"\n",
              "              title=\"Convert this dataframe to an interactive table.\"\n",
              "              style=\"display:none;\">\n",
              "        \n",
              "  <svg xmlns=\"http://www.w3.org/2000/svg\" height=\"24px\"viewBox=\"0 0 24 24\"\n",
              "       width=\"24px\">\n",
              "    <path d=\"M0 0h24v24H0V0z\" fill=\"none\"/>\n",
              "    <path d=\"M18.56 5.44l.94 2.06.94-2.06 2.06-.94-2.06-.94-.94-2.06-.94 2.06-2.06.94zm-11 1L8.5 8.5l.94-2.06 2.06-.94-2.06-.94L8.5 2.5l-.94 2.06-2.06.94zm10 10l.94 2.06.94-2.06 2.06-.94-2.06-.94-.94-2.06-.94 2.06-2.06.94z\"/><path d=\"M17.41 7.96l-1.37-1.37c-.4-.4-.92-.59-1.43-.59-.52 0-1.04.2-1.43.59L10.3 9.45l-7.72 7.72c-.78.78-.78 2.05 0 2.83L4 21.41c.39.39.9.59 1.41.59.51 0 1.02-.2 1.41-.59l7.78-7.78 2.81-2.81c.8-.78.8-2.07 0-2.86zM5.41 20L4 18.59l7.72-7.72 1.47 1.35L5.41 20z\"/>\n",
              "  </svg>\n",
              "      </button>\n",
              "      \n",
              "  <style>\n",
              "    .colab-df-container {\n",
              "      display:flex;\n",
              "      flex-wrap:wrap;\n",
              "      gap: 12px;\n",
              "    }\n",
              "\n",
              "    .colab-df-convert {\n",
              "      background-color: #E8F0FE;\n",
              "      border: none;\n",
              "      border-radius: 50%;\n",
              "      cursor: pointer;\n",
              "      display: none;\n",
              "      fill: #1967D2;\n",
              "      height: 32px;\n",
              "      padding: 0 0 0 0;\n",
              "      width: 32px;\n",
              "    }\n",
              "\n",
              "    .colab-df-convert:hover {\n",
              "      background-color: #E2EBFA;\n",
              "      box-shadow: 0px 1px 2px rgba(60, 64, 67, 0.3), 0px 1px 3px 1px rgba(60, 64, 67, 0.15);\n",
              "      fill: #174EA6;\n",
              "    }\n",
              "\n",
              "    [theme=dark] .colab-df-convert {\n",
              "      background-color: #3B4455;\n",
              "      fill: #D2E3FC;\n",
              "    }\n",
              "\n",
              "    [theme=dark] .colab-df-convert:hover {\n",
              "      background-color: #434B5C;\n",
              "      box-shadow: 0px 1px 3px 1px rgba(0, 0, 0, 0.15);\n",
              "      filter: drop-shadow(0px 1px 2px rgba(0, 0, 0, 0.3));\n",
              "      fill: #FFFFFF;\n",
              "    }\n",
              "  </style>\n",
              "\n",
              "      <script>\n",
              "        const buttonEl =\n",
              "          document.querySelector('#df-a19a4f63-be1d-4561-b2dd-b9d670346c11 button.colab-df-convert');\n",
              "        buttonEl.style.display =\n",
              "          google.colab.kernel.accessAllowed ? 'block' : 'none';\n",
              "\n",
              "        async function convertToInteractive(key) {\n",
              "          const element = document.querySelector('#df-a19a4f63-be1d-4561-b2dd-b9d670346c11');\n",
              "          const dataTable =\n",
              "            await google.colab.kernel.invokeFunction('convertToInteractive',\n",
              "                                                     [key], {});\n",
              "          if (!dataTable) return;\n",
              "\n",
              "          const docLinkHtml = 'Like what you see? Visit the ' +\n",
              "            '<a target=\"_blank\" href=https://colab.research.google.com/notebooks/data_table.ipynb>data table notebook</a>'\n",
              "            + ' to learn more about interactive tables.';\n",
              "          element.innerHTML = '';\n",
              "          dataTable['output_type'] = 'display_data';\n",
              "          await google.colab.output.renderOutput(dataTable, element);\n",
              "          const docLink = document.createElement('div');\n",
              "          docLink.innerHTML = docLinkHtml;\n",
              "          element.appendChild(docLink);\n",
              "        }\n",
              "      </script>\n",
              "    </div>\n",
              "  </div>\n",
              "  "
            ]
          },
          "metadata": {},
          "execution_count": 329
        }
      ]
    },
    {
      "cell_type": "markdown",
      "source": [
        "**1) Which are the years with the highest number of movies released on Netflix?**"
      ],
      "metadata": {
        "id": "qSzRo5G5Xhst"
      }
    },
    {
      "cell_type": "code",
      "source": [
        "a = tit['release_year'].hist()\n",
        "a"
      ],
      "metadata": {
        "colab": {
          "base_uri": "https://localhost:8080/",
          "height": 283
        },
        "id": "w-4NtYKoZWju",
        "outputId": "894cf3d2-6557-4f25-c9b1-d3b698ccd589"
      },
      "execution_count": 330,
      "outputs": [
        {
          "output_type": "execute_result",
          "data": {
            "text/plain": [
              "<matplotlib.axes._subplots.AxesSubplot at 0x7f7e5ed4f410>"
            ]
          },
          "metadata": {},
          "execution_count": 330
        },
        {
          "output_type": "display_data",
          "data": {
            "text/plain": [
              "<Figure size 432x288 with 1 Axes>"
            ],
            "image/png": "[encoded data removed]"
          },
          "metadata": {
            "needs_background": "light"
          }
        }
      ]
    },
    {
      "cell_type": "markdown",
      "source": [
        "**2) Is there a majority of tv shows or movies on Netflix?**"
      ],
      "metadata": {
        "id": "xao_vOqEXipA"
      }
    },
    {
      "cell_type": "code",
      "source": [
        "plt.pie(tit.type.value_counts(),labels=tit.type.value_counts().index,  autopct='%2.2f%%')\n",
        "plt.show()"
      ],
      "metadata": {
        "colab": {
          "base_uri": "https://localhost:8080/",
          "height": 248
        },
        "id": "0Qe1Ze89Xizs",
        "outputId": "123a0077-a6bd-4127-fe30-62713b5753be"
      },
      "execution_count": 331,
      "outputs": [
        {
          "output_type": "display_data",
          "data": {
            "text/plain": [
              "<Figure size 432x288 with 1 Axes>"
            ],
            "image/png": "[encoded data removed]"
          },
          "metadata": {}
        }
      ]
    },
    {
      "cell_type": "markdown",
      "source": [
        "**3) What are the most popular genres on Netflix and the ones with the highest imbd rating?**"
      ],
      "metadata": {
        "id": "ig3wQ-vfXjCI"
      }
    },
    {
      "cell_type": "code",
      "source": [
        "#Most Popular genres on Netflix\"\n",
        "tit2 = tit.set_index('title').genres.str.replace('[','', regex=False).str.replace(']','', regex=False).str.replace(\"'\",'', regex=False).str.replace(\" \",'', regex=False).str.split(',', expand=True).stack().reset_index(level=1, drop=True)\n",
        "sns.countplot(y = tit2, order=tit2.value_counts().index[:10])\n",
        "plt.title(\"Most Popular genres on Netflix\")\n",
        "plt.show()\n",
        "print()\n",
        "#Highest IMDB genres on Netflix\n",
        "tit2 = tit.set_index('imdb_score').genres.str.replace('[','', regex=False).str.replace(']','', regex=False).str.replace(\"'\",'', regex=False).str.replace(\" \",'', regex=False).str.split(',', expand=True).stack().reset_index(level=1, drop=True).rename()\n",
        "tit2 = pd.Series(tit2.index.values, index=tit2)\n",
        "tit2 = tit2.to_frame()\n",
        "sorted_series = tit2.groupby(level = 0).mean().sort_values(0,ascending=False)\n",
        "sorted_series.iloc[1:15].plot(kind = 'bar')\n",
        "plt.title(\"Highest IMDB genres on Netflix\")\n",
        "plt.show()"
      ],
      "metadata": {
        "colab": {
          "base_uri": "https://localhost:8080/",
          "height": 643
        },
        "id": "G2qKl9VcXjPT",
        "outputId": "4ba706b6-d4a1-4735-93cd-7609bde149dc"
      },
      "execution_count": 337,
      "outputs": [
        {
          "output_type": "display_data",
          "data": {
            "text/plain": [
              "<Figure size 432x288 with 1 Axes>"
            ],
            "image/png": "[encoded data removed]"
          },
          "metadata": {
            "needs_background": "light"
          }
        },
        {
          "output_type": "stream",
          "name": "stdout",
          "text": [
            "\n"
          ]
        },
        {
          "output_type": "display_data",
          "data": {
            "text/plain": [
              "<Figure size 432x288 with 1 Axes>"
            ],
            "image/png": "[encoded data removed]"
          },
          "metadata": {
            "needs_background": "light"
          }
        }
      ]
    },
    {
      "cell_type": "markdown",
      "source": [
        "**4) Which is the year with most popular US movies?**"
      ],
      "metadata": {
        "id": "eIQJzhdDXj2X"
      }
    },
    {
      "cell_type": "code",
      "source": [
        "tit2 = tit[tit['production_countries'] == \"['US']\"]\n",
        "tit2 = tit2.groupby(['release_year']).mean()['tmdb_popularity'].sort_values(0,ascending=False)\n",
        "tit2.iloc[:15].plot(kind = 'bar')\n",
        "plt.title(\"Year with most popular US movies\")\n",
        "plt.show()"
      ],
      "metadata": {
        "colab": {
          "base_uri": "https://localhost:8080/",
          "height": 312
        },
        "id": "dt7uMGkYXkC5",
        "outputId": "ebe42098-9c98-4878-a332-2376e893e322"
      },
      "execution_count": 336,
      "outputs": [
        {
          "output_type": "display_data",
          "data": {
            "text/plain": [
              "<Figure size 432x288 with 1 Axes>"
            ],
            "image/png": "[encoded data removed]"
          },
          "metadata": {
            "needs_background": "light"
          }
        }
      ]
    },
    {
      "cell_type": "markdown",
      "source": [
        "# ***HYPERBONUS***"
      ],
      "metadata": {
        "id": "Hiy6h6N-snAr"
      }
    },
    {
      "cell_type": "markdown",
      "source": [
        "# ***scrapit***"
      ],
      "metadata": {
        "id": "fNH9yGxrspzk"
      }
    },
    {
      "cell_type": "markdown",
      "source": [
        "**You will need to extract, clean and organize a dataset ready to be manipulated with Pandas (you can use Salaries.csv or titles.csv as examples). In order to do so, you will need to pick a place on the internet which sparks your interest and then build a simple web scraper which will extract useful informations from it, all well organized in a .csv file. You could start by looking at Beautiful Soup. Be sure to detail with text every passage of your code.**"
      ],
      "metadata": {
        "id": "S0HmDevYsqQ3"
      }
    },
    {
      "cell_type": "code",
      "source": [
        "import os\n",
        "import selenium\n",
        "from selenium import webdriver\n",
        "import time\n",
        "from PIL import Image\n",
        "import io\n",
        "import requests\n",
        "from webdriver_manager.chrome import ChromeDriverManager\n",
        "from selenium.common.exceptions import ElementClickInterceptedException"
      ],
      "metadata": {
        "id": "SjzFdzzysqYk"
      },
      "execution_count": 388,
      "outputs": []
    },
    {
      "cell_type": "code",
      "source": [
        "chrome_options = webdriver.ChromeOptions()\n",
        "chrome_options.add_argument('--headless')\n",
        "chrome_options.add_argument('--no-sandbox')\n",
        "chrome_options.add_argument('--disable-dev-shm-usage')\n",
        "driver = webdriver.Chrome('chromedriver',options=chrome_options)\n",
        "search_url='https://www.google.com/search?q={q}&tbm=isch&tbs=sur%3Afc&hl=en&ved=0CAIQpwVqFwoTCKCa1c6s4-oCFQAAAAAdAAAAABAC&biw=1251&bih=568' \n",
        "\n",
        "driver.get(search_url.format(q='Sunsets'))\n",
        "driver.execute_script(\"window.scrollTo(0, document.body.scrollHeight);\")\n",
        "time.sleep(5)#sleep_between_interactions\n",
        "imgResults = driver.find_elements_by_xpath(\"//img[contains(@class,'Q4LuWd')]\")\n",
        "totalResults=len(imgResults)\n",
        "img_urls = set()\n",
        "for i in  range(0,10):\n",
        "    img=imgResults[i]\n",
        "    try:\n",
        "        img.click()\n",
        "        time.sleep(2)\n",
        "        actual_images = driver.find_elements_by_css_selector('img.n3VNCb')\n",
        "        for actual_image in actual_images:\n",
        "            if actual_image.get_attribute('src') and 'https' in actual_image.get_attribute('src'):\n",
        "                img_urls.add(actual_image.get_attribute('src'))\n",
        "    except ElementClickInterceptedException or ElementNotInteractableException as err:\n",
        "        print(err)\n",
        "img_urls = pd.DataFrame(list(img_urls))\n",
        "print(img_urls.to_csv())\n",
        "img_urls.to_csv('img_urls.csv', encoding='utf-8')"
      ],
      "metadata": {
        "id": "cUsnKkxYtdxj",
        "outputId": "243c2131-d96a-43ac-9827-b1b8f023b2cd",
        "colab": {
          "base_uri": "https://localhost:8080/"
        }
      },
      "execution_count": 398,
      "outputs": [
        {
          "output_type": "stream",
          "name": "stderr",
          "text": [
            "/usr/local/lib/python3.7/dist-packages/ipykernel_launcher.py:11: DeprecationWarning: find_elements_by_xpath is deprecated. Please use find_elements(by=By.XPATH, value=xpath) instead\n",
            "  # This is added back by InteractiveShellApp.init_path()\n",
            "/usr/local/lib/python3.7/dist-packages/ipykernel_launcher.py:19: DeprecationWarning: find_elements_by_css_selector is deprecated. Please use find_elements(by=By.CSS_SELECTOR, value=css_selector) instead\n"
          ]
        },
        {
          "output_type": "stream",
          "name": "stdout",
          "text": [
            ",0\n",
            "0,https://live.staticflickr.com/3734/10919807855_93a75c8fb4_b.jpg\n",
            "1,https://cdn.pixabay.com/photo/2017/09/09/01/21/sunset-2730804_960_720.jpg\n",
            "2,https://upload.wikimedia.org/wikipedia/commons/5/58/Sunset_2007-1.jpg\n",
            "3,https://upload.wikimedia.org/wikipedia/commons/8/87/Red_sunset.jpg\n",
            "4,https://www.nps.gov/common/uploads/cropped_image/primary/8813FDC6-BC0D-818F-CDA2DD31B0C5338A.jpg?width=1600&quality=90&mode=crop\n",
            "5,https://live.staticflickr.com/65535/47955078123_25856844de_b.jpg\n",
            "6,https://pixnio.com/free-images/nature-landscapes/sunset/sunsets-over-beach.jpg\n",
            "7,https://www.publicdomainpictures.net/pictures/320000/nahled/sunset-clouds-1578320756Rjt.jpg\n",
            "8,https://upload.wikimedia.org/wikipedia/commons/9/90/Sunset_Marina.JPG\n",
            "9,https://live.staticflickr.com/3857/15294246926_7766885f5c_b.jpg\n",
            "\n"
          ]
        }
      ]
    }
  ]
}