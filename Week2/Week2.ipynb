{
  "nbformat": 4,
  "nbformat_minor": 0,
  "metadata": {
    "colab": {
      "name": "Week2",
      "provenance": [],
      "mount_file_id": "1vkhM3thFMuKu8w5jZEl8aKOGS8fugtcX",
      "authorship_tag": "ABX9TyMTDdfOarXZN5FtwJnumoZ2",
      "include_colab_link": true
    },
    "kernelspec": {
      "name": "python3",
      "display_name": "Python 3"
    },
    "language_info": {
      "name": "python"
    }
  },
  "cells": [
    {
      "cell_type": "markdown",
      "metadata": {
        "id": "view-in-github",
        "colab_type": "text"
      },
      "source": [
        "<a href=\"https://colab.research.google.com/github/mpatrini7/DataLAB42/blob/main/Week2/Week2.ipynb\" target=\"_parent\"><img src=\"https://colab.research.google.com/assets/colab-badge.svg\" alt=\"Open In Colab\"/></a>"
      ]
    },
    {
      "cell_type": "markdown",
      "source": [
        "# ***Part 1***"
      ],
      "metadata": {
        "id": "mTCg8o_CI8Db"
      }
    },
    {
      "cell_type": "code",
      "source": [
        "import numpy as np"
      ],
      "metadata": {
        "id": "dVoYxCo3JNFy"
      },
      "execution_count": null,
      "outputs": []
    },
    {
      "cell_type": "markdown",
      "source": [
        "**1.Create an array of ten zeros**"
      ],
      "metadata": {
        "id": "zorGXWXUI-0g"
      }
    },
    {
      "cell_type": "code",
      "execution_count": null,
      "metadata": {
        "colab": {
          "base_uri": "https://localhost:8080/"
        },
        "id": "H36VPj18Ew7g",
        "outputId": "2703f5b8-b527-4fb8-81e1-69591659852c"
      },
      "outputs": [
        {
          "output_type": "execute_result",
          "data": {
            "text/plain": [
              "array([0., 0., 0., 0., 0., 0., 0., 0., 0., 0.])"
            ]
          },
          "metadata": {},
          "execution_count": 20
        }
      ],
      "source": [
        "np.zeros(10)"
      ]
    },
    {
      "cell_type": "markdown",
      "source": [
        "**2.Create an array of ten ones**"
      ],
      "metadata": {
        "id": "2bABcWmoJBXS"
      }
    },
    {
      "cell_type": "code",
      "source": [
        "np.ones(10)"
      ],
      "metadata": {
        "colab": {
          "base_uri": "https://localhost:8080/"
        },
        "id": "SHNlFl03JEcR",
        "outputId": "1c5a2d0f-37ed-45ef-e837-48c2e437bae7"
      },
      "execution_count": null,
      "outputs": [
        {
          "output_type": "execute_result",
          "data": {
            "text/plain": [
              "array([1., 1., 1., 1., 1., 1., 1., 1., 1., 1.])"
            ]
          },
          "metadata": {},
          "execution_count": 22
        }
      ]
    },
    {
      "cell_type": "markdown",
      "source": [
        "**3.Create an array of integers from 10 to 50**"
      ],
      "metadata": {
        "id": "hTXFawl6JEz4"
      }
    },
    {
      "cell_type": "code",
      "source": [
        "np.arange(10, 51, 1)"
      ],
      "metadata": {
        "colab": {
          "base_uri": "https://localhost:8080/"
        },
        "id": "763bNC_5JFJL",
        "outputId": "2c61969d-46de-49b6-fc70-0a928cde2780"
      },
      "execution_count": null,
      "outputs": [
        {
          "output_type": "execute_result",
          "data": {
            "text/plain": [
              "array([10, 11, 12, 13, 14, 15, 16, 17, 18, 19, 20, 21, 22, 23, 24, 25, 26,\n",
              "       27, 28, 29, 30, 31, 32, 33, 34, 35, 36, 37, 38, 39, 40, 41, 42, 43,\n",
              "       44, 45, 46, 47, 48, 49, 50])"
            ]
          },
          "metadata": {},
          "execution_count": 23
        }
      ]
    },
    {
      "cell_type": "markdown",
      "source": [
        "**4.Create array of all the even integers from 10 to 50**"
      ],
      "metadata": {
        "id": "uVecRb0LJFV1"
      }
    },
    {
      "cell_type": "code",
      "source": [
        "np.arange(10, 51, 2)\n"
      ],
      "metadata": {
        "colab": {
          "base_uri": "https://localhost:8080/"
        },
        "id": "G8Kp2YRzJFsV",
        "outputId": "fc6f9016-e030-49c8-98e6-4f936ee5133a"
      },
      "execution_count": null,
      "outputs": [
        {
          "output_type": "execute_result",
          "data": {
            "text/plain": [
              "array([10, 12, 14, 16, 18, 20, 22, 24, 26, 28, 30, 32, 34, 36, 38, 40, 42,\n",
              "       44, 46, 48, 50])"
            ]
          },
          "metadata": {},
          "execution_count": 24
        }
      ]
    },
    {
      "cell_type": "markdown",
      "source": [
        "**5.Create a 3x3 identity matrix**"
      ],
      "metadata": {
        "id": "_CiiaLUNJGEl"
      }
    },
    {
      "cell_type": "code",
      "source": [
        "np.identity(3)"
      ],
      "metadata": {
        "colab": {
          "base_uri": "https://localhost:8080/"
        },
        "id": "3uFiqcJTJGWi",
        "outputId": "0d05ebb3-40d8-4932-81be-6e1eff0ccb01"
      },
      "execution_count": null,
      "outputs": [
        {
          "output_type": "execute_result",
          "data": {
            "text/plain": [
              "array([[1., 0., 0.],\n",
              "       [0., 1., 0.],\n",
              "       [0., 0., 1.]])"
            ]
          },
          "metadata": {},
          "execution_count": 26
        }
      ]
    },
    {
      "cell_type": "markdown",
      "source": [
        "**6.Generate a random number between 0 and 1**"
      ],
      "metadata": {
        "id": "2UREO7xIJGvZ"
      }
    },
    {
      "cell_type": "code",
      "source": [
        "np.random.random()"
      ],
      "metadata": {
        "colab": {
          "base_uri": "https://localhost:8080/"
        },
        "id": "MJfH9sm-Jxcj",
        "outputId": "597dc34f-ec9f-470b-ced6-790d2b2f2aac"
      },
      "execution_count": null,
      "outputs": [
        {
          "output_type": "execute_result",
          "data": {
            "text/plain": [
              "0.5391542867172957"
            ]
          },
          "metadata": {},
          "execution_count": 36
        }
      ]
    },
    {
      "cell_type": "markdown",
      "source": [
        "***7.Create the following matrix:***"
      ],
      "metadata": {
        "id": "uWUPXC4hKHi2"
      }
    },
    {
      "cell_type": "code",
      "source": [
        "np.linspace(0, 1, 10)"
      ],
      "metadata": {
        "colab": {
          "base_uri": "https://localhost:8080/"
        },
        "id": "thdtbdCJKHKI",
        "outputId": "111c51ad-00a5-4a26-c87c-f25356848c08"
      },
      "execution_count": null,
      "outputs": [
        {
          "output_type": "execute_result",
          "data": {
            "text/plain": [
              "array([0.        , 0.11111111, 0.22222222, 0.33333333, 0.44444444,\n",
              "       0.55555556, 0.66666667, 0.77777778, 0.88888889, 1.        ])"
            ]
          },
          "metadata": {},
          "execution_count": 38
        }
      ]
    },
    {
      "cell_type": "markdown",
      "source": [
        "# ***Part 2***"
      ],
      "metadata": {
        "id": "zRQcsqjHMSMy"
      }
    },
    {
      "cell_type": "code",
      "source": [
        "import matplotlib.pyplot as plt"
      ],
      "metadata": {
        "id": "pF3oxBoPNEFy"
      },
      "execution_count": null,
      "outputs": []
    },
    {
      "cell_type": "markdown",
      "source": [
        "**1.Create a matrix of random values of distribution of your choice**"
      ],
      "metadata": {
        "id": "DzK5TwqWMYqd"
      }
    },
    {
      "cell_type": "code",
      "source": [
        "np.random.rand(3, 3)"
      ],
      "metadata": {
        "colab": {
          "base_uri": "https://localhost:8080/"
        },
        "id": "QE6NEqq4MWb7",
        "outputId": "5622672a-06b3-4bf5-ad21-c5f1683778fc"
      },
      "execution_count": null,
      "outputs": [
        {
          "output_type": "execute_result",
          "data": {
            "text/plain": [
              "array([[0.65878983, 0.69727017, 0.48492124],\n",
              "       [0.21574068, 0.22601696, 0.1756538 ],\n",
              "       [0.50304821, 0.52944987, 0.37080815]])"
            ]
          },
          "metadata": {},
          "execution_count": 41
        }
      ]
    },
    {
      "cell_type": "markdown",
      "source": [
        "**2.Create a 1-dimensional array of 12 sequential numbers and convert it to a 4x3 array.**"
      ],
      "metadata": {
        "id": "pb4osFzDMd4c"
      }
    },
    {
      "cell_type": "code",
      "source": [
        "np.reshape(np.arange(1, 13), (4,3))"
      ],
      "metadata": {
        "colab": {
          "base_uri": "https://localhost:8080/"
        },
        "id": "U-bWq5ENMfGc",
        "outputId": "8bc6a8ec-11a6-4c89-c05d-5099db21e5d3"
      },
      "execution_count": null,
      "outputs": [
        {
          "output_type": "execute_result",
          "data": {
            "text/plain": [
              "array([[ 1,  2,  3],\n",
              "       [ 4,  5,  6],\n",
              "       [ 7,  8,  9],\n",
              "       [10, 11, 12]])"
            ]
          },
          "metadata": {},
          "execution_count": 43
        }
      ]
    },
    {
      "cell_type": "markdown",
      "source": [
        "**3.Write a function that creates an incremental array of dimension (1,n) with values between 0 and 1. Use arr.shape to verify.**"
      ],
      "metadata": {
        "id": "3Tgv-xiVMfm_"
      }
    },
    {
      "cell_type": "code",
      "source": [
        "def incr_arr(num):\n",
        "  return np.reshape(np.linspace(0, 1, num), (1, num))\n",
        "\n",
        "incr_arr(10)"
      ],
      "metadata": {
        "colab": {
          "base_uri": "https://localhost:8080/"
        },
        "id": "9YT-DWuAMgF3",
        "outputId": "3c35b6ef-f656-4073-8f41-ee3c243e95ae"
      },
      "execution_count": null,
      "outputs": [
        {
          "output_type": "execute_result",
          "data": {
            "text/plain": [
              "array([[0.        , 0.11111111, 0.22222222, 0.33333333, 0.44444444,\n",
              "        0.55555556, 0.66666667, 0.77777778, 0.88888889, 1.        ]])"
            ]
          },
          "metadata": {},
          "execution_count": 49
        }
      ]
    },
    {
      "cell_type": "code",
      "source": [
        "incr_arr(10).shape"
      ],
      "metadata": {
        "colab": {
          "base_uri": "https://localhost:8080/"
        },
        "id": "AezJWTUtPFpX",
        "outputId": "e2fef2fb-2b90-4e66-98e2-608c258b128e"
      },
      "execution_count": null,
      "outputs": [
        {
          "output_type": "execute_result",
          "data": {
            "text/plain": [
              "(1, 10)"
            ]
          },
          "metadata": {},
          "execution_count": 50
        }
      ]
    },
    {
      "cell_type": "markdown",
      "source": [
        "**4.Generate a 10x12 array and extract row 0-4 of columns 8-12.**"
      ],
      "metadata": {
        "id": "-el68OAVMnU3"
      }
    },
    {
      "cell_type": "code",
      "source": [
        "a = np.random.randn(10, 12)\n",
        "a.shape"
      ],
      "metadata": {
        "colab": {
          "base_uri": "https://localhost:8080/"
        },
        "id": "aVA4QC9fMx1Y",
        "outputId": "3d6aea5e-1826-4d19-ce0a-5b059398f4e1"
      },
      "execution_count": null,
      "outputs": [
        {
          "output_type": "execute_result",
          "data": {
            "text/plain": [
              "(10, 12)"
            ]
          },
          "metadata": {},
          "execution_count": 58
        }
      ]
    },
    {
      "cell_type": "code",
      "source": [
        "a"
      ],
      "metadata": {
        "colab": {
          "base_uri": "https://localhost:8080/"
        },
        "id": "7vHF4xOjPan5",
        "outputId": "bf695a9b-9f3c-49dd-d55a-5b9c0aa29ada"
      },
      "execution_count": null,
      "outputs": [
        {
          "output_type": "execute_result",
          "data": {
            "text/plain": [
              "array([[ 1.14207846e+00,  1.99821758e+00,  8.03751927e-01,\n",
              "         2.35732788e-03,  8.75673280e-02, -1.46903795e-01,\n",
              "        -2.16199548e-01, -9.36758560e-01, -1.43215417e+00,\n",
              "         1.17469396e-01, -1.59372914e+00,  3.67354312e-01],\n",
              "       [-1.27685750e+00, -1.24099234e+00, -9.78922853e-01,\n",
              "         1.27023866e+00, -6.75622454e-01, -1.80648515e+00,\n",
              "        -3.46984055e-01, -3.00840857e-01,  9.90732938e-02,\n",
              "         1.74840099e+00,  1.65002367e+00,  3.84217883e-01],\n",
              "       [-3.07066622e+00, -7.54965423e-01,  3.25015285e+00,\n",
              "         5.75003927e-01,  9.50218608e-01, -1.40136217e+00,\n",
              "         2.93616725e-01, -1.76460963e+00,  3.98966030e-01,\n",
              "         4.60495872e-01, -1.99022310e+00, -3.35906956e-01],\n",
              "       [-9.68133019e-01,  7.76980600e-01, -1.13530212e-01,\n",
              "         8.20044742e-02, -1.59114350e-01, -3.92022893e-01,\n",
              "         1.11669064e+00, -5.21106270e-01,  2.95260523e+00,\n",
              "        -4.94668827e-01, -2.42212925e-01, -2.39953866e-01],\n",
              "       [-4.25477444e-01, -1.13155103e+00, -1.24507480e+00,\n",
              "         1.90020476e+00, -1.67074654e+00,  9.83670687e-01,\n",
              "         3.61133295e-01, -2.51922547e-01, -1.57492363e+00,\n",
              "         1.76589840e+00,  1.49801367e+00, -1.38764431e+00],\n",
              "       [ 5.64046727e-02, -2.62784955e-01,  1.29176288e+00,\n",
              "        -1.13108609e+00,  1.25407354e+00, -3.09274321e-01,\n",
              "        -1.66774925e+00, -9.13936277e-01, -6.95711045e-01,\n",
              "         6.71074347e-01,  6.24906890e-01,  1.18336394e+00],\n",
              "       [-3.26908172e-01,  9.57399405e-01, -2.55782234e-01,\n",
              "        -1.00330347e+00, -1.84091199e-01,  1.30654343e+00,\n",
              "         2.46493410e-01,  1.28812407e-01,  3.12232644e-01,\n",
              "         6.69873851e-01, -9.27281685e-01,  7.08951777e-01],\n",
              "       [-9.99703081e-01,  5.79478037e-01,  2.32644574e+00,\n",
              "         1.52857195e-01, -8.69472522e-02, -4.12931152e-02,\n",
              "        -5.19902148e-02, -3.47020410e-01, -3.74882257e-02,\n",
              "        -1.57028813e+00,  1.76687244e+00, -2.24039243e+00],\n",
              "       [-1.35878313e+00, -8.13162309e-01, -2.57313391e-01,\n",
              "         9.36631985e-01,  5.40556485e-01, -8.09599471e-01,\n",
              "        -2.95745158e-01,  3.65602245e-02,  5.93511149e-01,\n",
              "        -7.10048189e-01, -1.50878842e+00, -9.16462095e-01],\n",
              "       [ 4.92024697e-01, -6.32581313e-02, -7.40073719e-02,\n",
              "        -6.22648974e-01, -2.29261280e+00, -8.46987676e-01,\n",
              "        -3.20647241e-01,  1.85945130e-01, -4.34426492e-01,\n",
              "         7.65089842e-01, -8.92600381e-01,  1.56304828e-01]])"
            ]
          },
          "metadata": {},
          "execution_count": 67
        }
      ]
    },
    {
      "cell_type": "code",
      "source": [
        "a[0:5, 7:12]"
      ],
      "metadata": {
        "colab": {
          "base_uri": "https://localhost:8080/"
        },
        "id": "Qaex9SJsPv0B",
        "outputId": "6e3606d4-2451-4a7c-81aa-5019450be676"
      },
      "execution_count": null,
      "outputs": [
        {
          "output_type": "execute_result",
          "data": {
            "text/plain": [
              "array([[-0.93675856, -1.43215417,  0.1174694 , -1.59372914,  0.36735431],\n",
              "       [-0.30084086,  0.09907329,  1.74840099,  1.65002367,  0.38421788],\n",
              "       [-1.76460963,  0.39896603,  0.46049587, -1.9902231 , -0.33590696],\n",
              "       [-0.52110627,  2.95260523, -0.49466883, -0.24221293, -0.23995387],\n",
              "       [-0.25192255, -1.57492363,  1.7658984 ,  1.49801367, -1.38764431]])"
            ]
          },
          "metadata": {},
          "execution_count": 71
        }
      ]
    },
    {
      "cell_type": "markdown",
      "source": [
        "**5.Using the function in Q3, get m vectors and bind them together (to have a m x n) matrix. Plot the matrix with matplotlib’s imshow.**"
      ],
      "metadata": {
        "id": "N1ndlI4ZMyD5"
      }
    },
    {
      "cell_type": "code",
      "source": [
        "m = incr_arr(10)\n",
        "m"
      ],
      "metadata": {
        "colab": {
          "base_uri": "https://localhost:8080/"
        },
        "id": "IXghY79fM1lY",
        "outputId": "cfa358fc-efd7-4151-98f5-2f64e9fa5dac"
      },
      "execution_count": null,
      "outputs": [
        {
          "output_type": "execute_result",
          "data": {
            "text/plain": [
              "array([[0.        , 0.11111111, 0.22222222, 0.33333333, 0.44444444,\n",
              "        0.55555556, 0.66666667, 0.77777778, 0.88888889, 1.        ]])"
            ]
          },
          "metadata": {},
          "execution_count": 82
        }
      ]
    },
    {
      "cell_type": "code",
      "source": [
        "m2 = incr_arr(10)\n",
        "m2"
      ],
      "metadata": {
        "colab": {
          "base_uri": "https://localhost:8080/"
        },
        "id": "iyf0DFRrTrbT",
        "outputId": "3a84313e-e5ce-4329-9cdd-c86252f894aa"
      },
      "execution_count": null,
      "outputs": [
        {
          "output_type": "execute_result",
          "data": {
            "text/plain": [
              "array([[0.        , 0.11111111, 0.22222222, 0.33333333, 0.44444444,\n",
              "        0.55555556, 0.66666667, 0.77777778, 0.88888889, 1.        ]])"
            ]
          },
          "metadata": {},
          "execution_count": 85
        }
      ]
    },
    {
      "cell_type": "code",
      "source": [
        "m3 = incr_arr(10)\n",
        "m3"
      ],
      "metadata": {
        "colab": {
          "base_uri": "https://localhost:8080/"
        },
        "id": "2mHAnE4oT3Nj",
        "outputId": "1c9a11a4-8091-4b8b-faa1-933b65b4a4dc"
      },
      "execution_count": null,
      "outputs": [
        {
          "output_type": "execute_result",
          "data": {
            "text/plain": [
              "array([[0.        , 0.11111111, 0.22222222, 0.33333333, 0.44444444,\n",
              "        0.55555556, 0.66666667, 0.77777778, 0.88888889, 1.        ]])"
            ]
          },
          "metadata": {},
          "execution_count": 88
        }
      ]
    },
    {
      "cell_type": "code",
      "source": [
        "matrix = np.concatenate((m, m2))\n",
        "matrix"
      ],
      "metadata": {
        "colab": {
          "base_uri": "https://localhost:8080/"
        },
        "id": "M-bc2OnvTCH0",
        "outputId": "11821184-db33-4023-a388-d00024ed7e27"
      },
      "execution_count": null,
      "outputs": [
        {
          "output_type": "execute_result",
          "data": {
            "text/plain": [
              "array([[0.        , 0.11111111, 0.22222222, 0.33333333, 0.44444444,\n",
              "        0.55555556, 0.66666667, 0.77777778, 0.88888889, 1.        ],\n",
              "       [0.        , 0.11111111, 0.22222222, 0.33333333, 0.44444444,\n",
              "        0.55555556, 0.66666667, 0.77777778, 0.88888889, 1.        ]])"
            ]
          },
          "metadata": {},
          "execution_count": 112
        }
      ]
    },
    {
      "cell_type": "code",
      "source": [
        "plt.imshow(matrix)"
      ],
      "metadata": {
        "colab": {
          "base_uri": "https://localhost:8080/",
          "height": 133
        },
        "id": "fv4i8fgNTgF4",
        "outputId": "bd9ddfc0-1303-4d54-f8f6-f3cb535fb8ff"
      },
      "execution_count": null,
      "outputs": [
        {
          "output_type": "execute_result",
          "data": {
            "text/plain": [
              "<matplotlib.image.AxesImage at 0x7f3ea24192d0>"
            ]
          },
          "metadata": {},
          "execution_count": 113
        },
        {
          "output_type": "display_data",
          "data": {
            "text/plain": [
              "<Figure size 432x288 with 1 Axes>"
            ],
            "image/png": "[encoded data removed]"
          },
          "metadata": {
            "needs_background": "light"
          }
        }
      ]
    },
    {
      "cell_type": "markdown",
      "source": [
        "**6.Multiply the resulting matrix from Q5 with the matrix of a picture of your choice. Plot the resulting matrix.**"
      ],
      "metadata": {
        "id": "46GWJrJJM15S"
      }
    },
    {
      "cell_type": "code",
      "source": [
        "import matplotlib.image as mpimg"
      ],
      "metadata": {
        "id": "gsXzFEgsM4Pa"
      },
      "execution_count": null,
      "outputs": []
    },
    {
      "cell_type": "code",
      "source": [
        "img = mpimg.imread(\"/content/drive/MyDrive/sterlizia.jpeg\", 0)\n",
        "plt.imshow(img)"
      ],
      "metadata": {
        "colab": {
          "base_uri": "https://localhost:8080/",
          "height": 287
        },
        "id": "qzDuOrsLVhCY",
        "outputId": "8ab707a3-5c68-4799-c76b-94b0e6d64d6a"
      },
      "execution_count": null,
      "outputs": [
        {
          "output_type": "execute_result",
          "data": {
            "text/plain": [
              "<matplotlib.image.AxesImage at 0x7f3ea23f4690>"
            ]
          },
          "metadata": {},
          "execution_count": 115
        },
        {
          "output_type": "display_data",
          "data": {
            "text/plain": [
              "<Figure size 432x288 with 1 Axes>"
            ],
            "image/png": "[encoded data removed]"
          },
          "metadata": {
            "needs_background": "light"
          }
        }
      ]
    },
    {
      "cell_type": "code",
      "source": [
        "img.shape"
      ],
      "metadata": {
        "colab": {
          "base_uri": "https://localhost:8080/"
        },
        "id": "S6AMHstEYJk4",
        "outputId": "5f6a3d35-6d1d-47e6-c1f8-482d9d2b04a7"
      },
      "execution_count": null,
      "outputs": [
        {
          "output_type": "execute_result",
          "data": {
            "text/plain": [
              "(1170, 1170, 3)"
            ]
          },
          "metadata": {},
          "execution_count": 120
        }
      ]
    },
    {
      "cell_type": "code",
      "source": [
        "np.concatenate((incr_arr(9).reshape(3), img))"
      ],
      "metadata": {
        "colab": {
          "base_uri": "https://localhost:8080/",
          "height": 169
        },
        "id": "k4_4w8EKYvy5",
        "outputId": "3962417e-9727-420b-ab0d-abb88ba719c6"
      },
      "execution_count": null,
      "outputs": [
        {
          "output_type": "error",
          "ename": "ValueError",
          "evalue": "ignored",
          "traceback": [
            "\u001b[0;31m---------------------------------------------------------------------------\u001b[0m",
            "\u001b[0;31mValueError\u001b[0m                                Traceback (most recent call last)",
            "\u001b[0;32m<ipython-input-137-c2e1e40282d2>\u001b[0m in \u001b[0;36m<module>\u001b[0;34m()\u001b[0m\n\u001b[0;32m----> 1\u001b[0;31m \u001b[0mnp\u001b[0m\u001b[0;34m.\u001b[0m\u001b[0mconcatenate\u001b[0m\u001b[0;34m(\u001b[0m\u001b[0;34m(\u001b[0m\u001b[0mincr_arr\u001b[0m\u001b[0;34m(\u001b[0m\u001b[0;36m9\u001b[0m\u001b[0;34m)\u001b[0m\u001b[0;34m.\u001b[0m\u001b[0mreshape\u001b[0m\u001b[0;34m(\u001b[0m\u001b[0;36m3\u001b[0m\u001b[0;34m)\u001b[0m\u001b[0;34m,\u001b[0m \u001b[0mimg\u001b[0m\u001b[0;34m)\u001b[0m\u001b[0;34m)\u001b[0m\u001b[0;34m\u001b[0m\u001b[0;34m\u001b[0m\u001b[0m\n\u001b[0m",
            "\u001b[0;31mValueError\u001b[0m: cannot reshape array of size 9 into shape (3,)"
          ]
        }
      ]
    }
  ]
}