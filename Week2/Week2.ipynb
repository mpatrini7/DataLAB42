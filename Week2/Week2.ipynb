{
  "nbformat": 4,
  "nbformat_minor": 0,
  "metadata": {
    "colab": {
      "name": "Week2",
      "provenance": [],
      "mount_file_id": "1vkhM3thFMuKu8w5jZEl8aKOGS8fugtcX",
      "authorship_tag": "ABX9TyO+8g3DcZESVz4VotLkkOcm",
      "include_colab_link": true
    },
    "kernelspec": {
      "name": "python3",
      "display_name": "Python 3"
    },
    "language_info": {
      "name": "python"
    }
  },
  "cells": [
    {
      "cell_type": "markdown",
      "metadata": {
        "id": "view-in-github",
        "colab_type": "text"
      },
      "source": [
        "<a href=\"https://colab.research.google.com/github/mpatrini7/DataLAB42/blob/main/Week2/Week2.ipynb\" target=\"_parent\"><img src=\"https://colab.research.google.com/assets/colab-badge.svg\" alt=\"Open In Colab\"/></a>"
      ]
    },
    {
      "cell_type": "markdown",
      "source": [
        "# ***Part 1***"
      ],
      "metadata": {
        "id": "mTCg8o_CI8Db"
      }
    },
    {
      "cell_type": "code",
      "source": [
        "import numpy as np"
      ],
      "metadata": {
        "id": "dVoYxCo3JNFy"
      },
      "execution_count": 2,
      "outputs": []
    },
    {
      "cell_type": "markdown",
      "source": [
        "**1.Create an array of ten zeros**"
      ],
      "metadata": {
        "id": "zorGXWXUI-0g"
      }
    },
    {
      "cell_type": "code",
      "execution_count": 3,
      "metadata": {
        "colab": {
          "base_uri": "https://localhost:8080/"
        },
        "id": "H36VPj18Ew7g",
        "outputId": "edd2609b-19e1-4d3d-a3b6-966aa9c28242"
      },
      "outputs": [
        {
          "output_type": "execute_result",
          "data": {
            "text/plain": [
              "array([0., 0., 0., 0., 0., 0., 0., 0., 0., 0.])"
            ]
          },
          "metadata": {},
          "execution_count": 3
        }
      ],
      "source": [
        "np.zeros(10)"
      ]
    },
    {
      "cell_type": "markdown",
      "source": [
        "**2.Create an array of ten ones**"
      ],
      "metadata": {
        "id": "2bABcWmoJBXS"
      }
    },
    {
      "cell_type": "code",
      "source": [
        "np.ones(10)"
      ],
      "metadata": {
        "colab": {
          "base_uri": "https://localhost:8080/"
        },
        "id": "SHNlFl03JEcR",
        "outputId": "75a358dc-fea0-470e-ebe3-a55e42937994"
      },
      "execution_count": 4,
      "outputs": [
        {
          "output_type": "execute_result",
          "data": {
            "text/plain": [
              "array([1., 1., 1., 1., 1., 1., 1., 1., 1., 1.])"
            ]
          },
          "metadata": {},
          "execution_count": 4
        }
      ]
    },
    {
      "cell_type": "markdown",
      "source": [
        "**3.Create an array of integers from 10 to 50**"
      ],
      "metadata": {
        "id": "hTXFawl6JEz4"
      }
    },
    {
      "cell_type": "code",
      "source": [
        "np.arange(10, 51, 1)"
      ],
      "metadata": {
        "colab": {
          "base_uri": "https://localhost:8080/"
        },
        "id": "763bNC_5JFJL",
        "outputId": "73db3c08-6757-431c-bd04-b24cbaa3fc01"
      },
      "execution_count": 5,
      "outputs": [
        {
          "output_type": "execute_result",
          "data": {
            "text/plain": [
              "array([10, 11, 12, 13, 14, 15, 16, 17, 18, 19, 20, 21, 22, 23, 24, 25, 26,\n",
              "       27, 28, 29, 30, 31, 32, 33, 34, 35, 36, 37, 38, 39, 40, 41, 42, 43,\n",
              "       44, 45, 46, 47, 48, 49, 50])"
            ]
          },
          "metadata": {},
          "execution_count": 5
        }
      ]
    },
    {
      "cell_type": "markdown",
      "source": [
        "**4.Create array of all the even integers from 10 to 50**"
      ],
      "metadata": {
        "id": "uVecRb0LJFV1"
      }
    },
    {
      "cell_type": "code",
      "source": [
        "np.arange(10, 51, 2)\n"
      ],
      "metadata": {
        "colab": {
          "base_uri": "https://localhost:8080/"
        },
        "id": "G8Kp2YRzJFsV",
        "outputId": "9f42f622-a60a-4c3c-ccd5-b8f24e1fd069"
      },
      "execution_count": 6,
      "outputs": [
        {
          "output_type": "execute_result",
          "data": {
            "text/plain": [
              "array([10, 12, 14, 16, 18, 20, 22, 24, 26, 28, 30, 32, 34, 36, 38, 40, 42,\n",
              "       44, 46, 48, 50])"
            ]
          },
          "metadata": {},
          "execution_count": 6
        }
      ]
    },
    {
      "cell_type": "markdown",
      "source": [
        "**5.Create a 3x3 identity matrix**"
      ],
      "metadata": {
        "id": "_CiiaLUNJGEl"
      }
    },
    {
      "cell_type": "code",
      "source": [
        "np.identity(3)"
      ],
      "metadata": {
        "colab": {
          "base_uri": "https://localhost:8080/"
        },
        "id": "3uFiqcJTJGWi",
        "outputId": "7f0b7601-090d-4f9a-dac5-2773efdbb014"
      },
      "execution_count": 7,
      "outputs": [
        {
          "output_type": "execute_result",
          "data": {
            "text/plain": [
              "array([[1., 0., 0.],\n",
              "       [0., 1., 0.],\n",
              "       [0., 0., 1.]])"
            ]
          },
          "metadata": {},
          "execution_count": 7
        }
      ]
    },
    {
      "cell_type": "markdown",
      "source": [
        "**6.Generate a random number between 0 and 1**"
      ],
      "metadata": {
        "id": "2UREO7xIJGvZ"
      }
    },
    {
      "cell_type": "code",
      "source": [
        "np.random.random()"
      ],
      "metadata": {
        "colab": {
          "base_uri": "https://localhost:8080/"
        },
        "id": "MJfH9sm-Jxcj",
        "outputId": "8644b6fd-c81f-4e5f-8e2d-61ec6c27fd69"
      },
      "execution_count": 8,
      "outputs": [
        {
          "output_type": "execute_result",
          "data": {
            "text/plain": [
              "0.8937005209256622"
            ]
          },
          "metadata": {},
          "execution_count": 8
        }
      ]
    },
    {
      "cell_type": "markdown",
      "source": [
        "***7.Create the following matrix:***"
      ],
      "metadata": {
        "id": "uWUPXC4hKHi2"
      }
    },
    {
      "cell_type": "code",
      "source": [
        "np.linspace(0, 1, 10)"
      ],
      "metadata": {
        "colab": {
          "base_uri": "https://localhost:8080/"
        },
        "id": "thdtbdCJKHKI",
        "outputId": "aaf32a38-b271-4ba3-9b54-775029bed0ba"
      },
      "execution_count": 9,
      "outputs": [
        {
          "output_type": "execute_result",
          "data": {
            "text/plain": [
              "array([0.        , 0.11111111, 0.22222222, 0.33333333, 0.44444444,\n",
              "       0.55555556, 0.66666667, 0.77777778, 0.88888889, 1.        ])"
            ]
          },
          "metadata": {},
          "execution_count": 9
        }
      ]
    },
    {
      "cell_type": "markdown",
      "source": [
        "# ***Part 2***"
      ],
      "metadata": {
        "id": "zRQcsqjHMSMy"
      }
    },
    {
      "cell_type": "code",
      "source": [
        "import matplotlib.pyplot as plt"
      ],
      "metadata": {
        "id": "pF3oxBoPNEFy"
      },
      "execution_count": 10,
      "outputs": []
    },
    {
      "cell_type": "markdown",
      "source": [
        "**1.Create a matrix of random values of distribution of your choice**"
      ],
      "metadata": {
        "id": "DzK5TwqWMYqd"
      }
    },
    {
      "cell_type": "code",
      "source": [
        "np.random.rand(3, 3)"
      ],
      "metadata": {
        "colab": {
          "base_uri": "https://localhost:8080/"
        },
        "id": "QE6NEqq4MWb7",
        "outputId": "397b315c-7e59-4ccf-93ac-7e7b49084b5b"
      },
      "execution_count": 11,
      "outputs": [
        {
          "output_type": "execute_result",
          "data": {
            "text/plain": [
              "array([[0.56509492, 0.9575187 , 0.65984931],\n",
              "       [0.17606372, 0.05860257, 0.25813005],\n",
              "       [0.9286883 , 0.64254275, 0.36279897]])"
            ]
          },
          "metadata": {},
          "execution_count": 11
        }
      ]
    },
    {
      "cell_type": "markdown",
      "source": [
        "**2.Create a 1-dimensional array of 12 sequential numbers and convert it to a 4x3 array.**"
      ],
      "metadata": {
        "id": "pb4osFzDMd4c"
      }
    },
    {
      "cell_type": "code",
      "source": [
        "np.reshape(np.arange(1, 13), (4,3))"
      ],
      "metadata": {
        "colab": {
          "base_uri": "https://localhost:8080/"
        },
        "id": "U-bWq5ENMfGc",
        "outputId": "31f76ce9-922a-4b7c-bef1-c5900e72fe15"
      },
      "execution_count": 12,
      "outputs": [
        {
          "output_type": "execute_result",
          "data": {
            "text/plain": [
              "array([[ 1,  2,  3],\n",
              "       [ 4,  5,  6],\n",
              "       [ 7,  8,  9],\n",
              "       [10, 11, 12]])"
            ]
          },
          "metadata": {},
          "execution_count": 12
        }
      ]
    },
    {
      "cell_type": "markdown",
      "source": [
        "**3.Write a function that creates an incremental array of dimension (1,n) with values between 0 and 1. Use arr.shape to verify.**"
      ],
      "metadata": {
        "id": "3Tgv-xiVMfm_"
      }
    },
    {
      "cell_type": "code",
      "source": [
        "def incr_arr(num):\n",
        "  return np.reshape(np.linspace(0, 1, num), (1, num))\n",
        "\n",
        "incr_arr(10)"
      ],
      "metadata": {
        "colab": {
          "base_uri": "https://localhost:8080/"
        },
        "id": "9YT-DWuAMgF3",
        "outputId": "a4c4029d-7168-4a96-f0f0-f12e79b42f21"
      },
      "execution_count": 13,
      "outputs": [
        {
          "output_type": "execute_result",
          "data": {
            "text/plain": [
              "array([[0.        , 0.11111111, 0.22222222, 0.33333333, 0.44444444,\n",
              "        0.55555556, 0.66666667, 0.77777778, 0.88888889, 1.        ]])"
            ]
          },
          "metadata": {},
          "execution_count": 13
        }
      ]
    },
    {
      "cell_type": "code",
      "source": [
        "incr_arr(10).shape"
      ],
      "metadata": {
        "colab": {
          "base_uri": "https://localhost:8080/"
        },
        "id": "AezJWTUtPFpX",
        "outputId": "1a41bbad-37d2-4eb3-ee4b-ff0a32bbb42b"
      },
      "execution_count": 14,
      "outputs": [
        {
          "output_type": "execute_result",
          "data": {
            "text/plain": [
              "(1, 10)"
            ]
          },
          "metadata": {},
          "execution_count": 14
        }
      ]
    },
    {
      "cell_type": "markdown",
      "source": [
        "**4.Generate a 10x12 array and extract row 0-4 of columns 8-12.**"
      ],
      "metadata": {
        "id": "-el68OAVMnU3"
      }
    },
    {
      "cell_type": "code",
      "source": [
        "a = np.random.randn(10, 12)\n",
        "a.shape"
      ],
      "metadata": {
        "colab": {
          "base_uri": "https://localhost:8080/"
        },
        "id": "aVA4QC9fMx1Y",
        "outputId": "bf62cecb-d519-4d86-a3d3-c00f648c7625"
      },
      "execution_count": 15,
      "outputs": [
        {
          "output_type": "execute_result",
          "data": {
            "text/plain": [
              "(10, 12)"
            ]
          },
          "metadata": {},
          "execution_count": 15
        }
      ]
    },
    {
      "cell_type": "code",
      "source": [
        "a"
      ],
      "metadata": {
        "colab": {
          "base_uri": "https://localhost:8080/"
        },
        "id": "7vHF4xOjPan5",
        "outputId": "b1d809e6-65e6-4c3d-bee0-021d3676c25c"
      },
      "execution_count": 16,
      "outputs": [
        {
          "output_type": "execute_result",
          "data": {
            "text/plain": [
              "array([[-0.32270727,  0.75001218,  0.32247963, -2.97436947, -1.5013585 ,\n",
              "        -2.3325947 , -0.68099193,  0.31492728, -0.32397257, -0.47913383,\n",
              "         0.70106187,  0.24034616],\n",
              "       [ 0.5544283 ,  0.82635971,  1.22841947,  1.77476937,  0.37944704,\n",
              "         0.73156997, -2.47160871, -0.21789659,  0.90393183,  0.87256721,\n",
              "        -0.0683562 , -2.23221745],\n",
              "       [ 1.3567869 ,  2.34342969, -1.02266008, -0.51093392, -0.62337284,\n",
              "        -0.10497458,  1.11263111, -0.07510738,  0.62519495,  0.54518177,\n",
              "         0.05889032, -0.41289611],\n",
              "       [-0.34953349,  0.14274065, -0.91724311,  0.70154069, -0.67219957,\n",
              "        -0.48279064,  0.98701271, -0.42919715, -0.67349861, -0.49912007,\n",
              "         0.76483189,  0.87868495],\n",
              "       [-0.38361362,  0.8848373 , -0.39777483, -0.52320773,  1.33327483,\n",
              "        -0.54109564,  0.9366472 ,  0.14519578, -0.9947585 , -0.54481417,\n",
              "         0.71321066,  1.33920261],\n",
              "       [ 0.94920761, -0.73393563,  0.73094409, -0.19585357, -1.75859363,\n",
              "        -0.99282477,  0.18636029,  0.87037164, -0.3578745 ,  0.24001425,\n",
              "        -2.94630351,  1.29345031],\n",
              "       [-0.0186568 ,  0.24808209,  1.76525602, -0.54151621,  1.10358285,\n",
              "         1.85985665, -0.6150355 , -0.29489438,  0.18724909,  1.45665459,\n",
              "         0.80856229, -0.89754073],\n",
              "       [-0.58628658, -0.1500451 , -0.13471418, -0.66830493,  1.04206025,\n",
              "         1.36387235, -0.21096051,  0.79596054, -0.8895178 ,  1.74559308,\n",
              "         0.3836947 , -0.45801291],\n",
              "       [ 0.58086149,  0.07886062,  0.19896322,  0.35529536,  1.07784437,\n",
              "         0.63137841, -0.25670686,  0.03950897,  0.78290037, -1.44424886,\n",
              "         0.13294042,  0.27154558],\n",
              "       [-0.30121236, -0.11343336,  0.66293348, -1.00861176,  0.31415955,\n",
              "        -0.53386477,  1.4164275 , -0.93318988,  0.2862848 ,  0.44853779,\n",
              "        -0.10316014, -0.63807778]])"
            ]
          },
          "metadata": {},
          "execution_count": 16
        }
      ]
    },
    {
      "cell_type": "code",
      "source": [
        "a[0:5, 7:12]"
      ],
      "metadata": {
        "colab": {
          "base_uri": "https://localhost:8080/"
        },
        "id": "Qaex9SJsPv0B",
        "outputId": "7da1ae0a-a48d-40f5-e320-0adbf07f3b79"
      },
      "execution_count": 17,
      "outputs": [
        {
          "output_type": "execute_result",
          "data": {
            "text/plain": [
              "array([[ 0.31492728, -0.32397257, -0.47913383,  0.70106187,  0.24034616],\n",
              "       [-0.21789659,  0.90393183,  0.87256721, -0.0683562 , -2.23221745],\n",
              "       [-0.07510738,  0.62519495,  0.54518177,  0.05889032, -0.41289611],\n",
              "       [-0.42919715, -0.67349861, -0.49912007,  0.76483189,  0.87868495],\n",
              "       [ 0.14519578, -0.9947585 , -0.54481417,  0.71321066,  1.33920261]])"
            ]
          },
          "metadata": {},
          "execution_count": 17
        }
      ]
    },
    {
      "cell_type": "markdown",
      "source": [
        "**5.Using the function in Q3, get m vectors and bind them together (to have a m x n) matrix. Plot the matrix with matplotlib’s imshow.**"
      ],
      "metadata": {
        "id": "N1ndlI4ZMyD5"
      }
    },
    {
      "cell_type": "code",
      "source": [
        "m = incr_arr(10)\n",
        "m"
      ],
      "metadata": {
        "colab": {
          "base_uri": "https://localhost:8080/"
        },
        "id": "IXghY79fM1lY",
        "outputId": "4b2d0826-c6b9-4a2e-d9d6-df7b8e29f763"
      },
      "execution_count": 18,
      "outputs": [
        {
          "output_type": "execute_result",
          "data": {
            "text/plain": [
              "array([[0.        , 0.11111111, 0.22222222, 0.33333333, 0.44444444,\n",
              "        0.55555556, 0.66666667, 0.77777778, 0.88888889, 1.        ]])"
            ]
          },
          "metadata": {},
          "execution_count": 18
        }
      ]
    },
    {
      "cell_type": "code",
      "source": [
        "m2 = incr_arr(10)\n",
        "m2"
      ],
      "metadata": {
        "colab": {
          "base_uri": "https://localhost:8080/"
        },
        "id": "iyf0DFRrTrbT",
        "outputId": "b2f8b4fa-b75a-450d-b97d-4d24fe6e2d82"
      },
      "execution_count": 19,
      "outputs": [
        {
          "output_type": "execute_result",
          "data": {
            "text/plain": [
              "array([[0.        , 0.11111111, 0.22222222, 0.33333333, 0.44444444,\n",
              "        0.55555556, 0.66666667, 0.77777778, 0.88888889, 1.        ]])"
            ]
          },
          "metadata": {},
          "execution_count": 19
        }
      ]
    },
    {
      "cell_type": "code",
      "source": [
        "m3 = incr_arr(10)\n",
        "m3"
      ],
      "metadata": {
        "colab": {
          "base_uri": "https://localhost:8080/"
        },
        "id": "2mHAnE4oT3Nj",
        "outputId": "580e2b1d-8487-4c1e-d3ed-7206062af530"
      },
      "execution_count": 20,
      "outputs": [
        {
          "output_type": "execute_result",
          "data": {
            "text/plain": [
              "array([[0.        , 0.11111111, 0.22222222, 0.33333333, 0.44444444,\n",
              "        0.55555556, 0.66666667, 0.77777778, 0.88888889, 1.        ]])"
            ]
          },
          "metadata": {},
          "execution_count": 20
        }
      ]
    },
    {
      "cell_type": "code",
      "source": [
        "matrix = np.concatenate((m, m2))\n",
        "matrix"
      ],
      "metadata": {
        "colab": {
          "base_uri": "https://localhost:8080/"
        },
        "id": "M-bc2OnvTCH0",
        "outputId": "011e4b9d-72e8-4d78-b846-871c2c8291b5"
      },
      "execution_count": 21,
      "outputs": [
        {
          "output_type": "execute_result",
          "data": {
            "text/plain": [
              "array([[0.        , 0.11111111, 0.22222222, 0.33333333, 0.44444444,\n",
              "        0.55555556, 0.66666667, 0.77777778, 0.88888889, 1.        ],\n",
              "       [0.        , 0.11111111, 0.22222222, 0.33333333, 0.44444444,\n",
              "        0.55555556, 0.66666667, 0.77777778, 0.88888889, 1.        ]])"
            ]
          },
          "metadata": {},
          "execution_count": 21
        }
      ]
    },
    {
      "cell_type": "code",
      "source": [
        "plt.imshow(matrix)"
      ],
      "metadata": {
        "colab": {
          "base_uri": "https://localhost:8080/",
          "height": 133
        },
        "id": "fv4i8fgNTgF4",
        "outputId": "55db7182-e4dc-45e5-b164-dbfdc228e9b6"
      },
      "execution_count": 22,
      "outputs": [
        {
          "output_type": "execute_result",
          "data": {
            "text/plain": [
              "<matplotlib.image.AxesImage at 0x7effd409ca50>"
            ]
          },
          "metadata": {},
          "execution_count": 22
        },
        {
          "output_type": "display_data",
          "data": {
            "text/plain": [
              "<Figure size 432x288 with 1 Axes>"
            ],
            "image/png": "[encoded data removed]"
          },
          "metadata": {
            "needs_background": "light"
          }
        }
      ]
    },
    {
      "cell_type": "markdown",
      "source": [
        "**6.Multiply the resulting matrix from Q5 with the matrix of a picture of your choice. Plot the resulting matrix.**"
      ],
      "metadata": {
        "id": "46GWJrJJM15S"
      }
    },
    {
      "cell_type": "code",
      "source": [
        "import matplotlib.image as mpimg"
      ],
      "metadata": {
        "id": "gsXzFEgsM4Pa"
      },
      "execution_count": 23,
      "outputs": []
    },
    {
      "cell_type": "code",
      "source": [
        "img = mpimg.imread(\"/imgs/sterlizia.jpeg\", 0)\n",
        "plt.imshow(img)"
      ],
      "metadata": {
        "colab": {
          "base_uri": "https://localhost:8080/",
          "height": 336
        },
        "id": "qzDuOrsLVhCY",
        "outputId": "cb5bb81b-ce93-4e0c-9ea0-70429c034c1c"
      },
      "execution_count": 25,
      "outputs": [
        {
          "output_type": "error",
          "ename": "FileNotFoundError",
          "evalue": "ignored",
          "traceback": [
            "\u001b[0;31m---------------------------------------------------------------------------\u001b[0m",
            "\u001b[0;31mFileNotFoundError\u001b[0m                         Traceback (most recent call last)",
            "\u001b[0;32m<ipython-input-25-79438d039239>\u001b[0m in \u001b[0;36m<module>\u001b[0;34m()\u001b[0m\n\u001b[0;32m----> 1\u001b[0;31m \u001b[0mimg\u001b[0m \u001b[0;34m=\u001b[0m \u001b[0mmpimg\u001b[0m\u001b[0;34m.\u001b[0m\u001b[0mimread\u001b[0m\u001b[0;34m(\u001b[0m\u001b[0;34m\"/imgs/sterlizia.jpeg\"\u001b[0m\u001b[0;34m,\u001b[0m \u001b[0;36m0\u001b[0m\u001b[0;34m)\u001b[0m\u001b[0;34m\u001b[0m\u001b[0;34m\u001b[0m\u001b[0m\n\u001b[0m\u001b[1;32m      2\u001b[0m \u001b[0mplt\u001b[0m\u001b[0;34m.\u001b[0m\u001b[0mimshow\u001b[0m\u001b[0;34m(\u001b[0m\u001b[0mimg\u001b[0m\u001b[0;34m)\u001b[0m\u001b[0;34m\u001b[0m\u001b[0;34m\u001b[0m\u001b[0m\n",
            "\u001b[0;32m/usr/local/lib/python3.7/dist-packages/matplotlib/image.py\u001b[0m in \u001b[0;36mimread\u001b[0;34m(fname, format)\u001b[0m\n\u001b[1;32m   1462\u001b[0m             raise ValueError('Only know how to handle PNG; with Pillow '\n\u001b[1;32m   1463\u001b[0m                              'installed, Matplotlib can handle more images')\n\u001b[0;32m-> 1464\u001b[0;31m         \u001b[0;32mwith\u001b[0m \u001b[0mImage\u001b[0m\u001b[0;34m.\u001b[0m\u001b[0mopen\u001b[0m\u001b[0;34m(\u001b[0m\u001b[0mfname\u001b[0m\u001b[0;34m)\u001b[0m \u001b[0;32mas\u001b[0m \u001b[0mimage\u001b[0m\u001b[0;34m:\u001b[0m\u001b[0;34m\u001b[0m\u001b[0;34m\u001b[0m\u001b[0m\n\u001b[0m\u001b[1;32m   1465\u001b[0m             \u001b[0;32mreturn\u001b[0m \u001b[0mpil_to_array\u001b[0m\u001b[0;34m(\u001b[0m\u001b[0mimage\u001b[0m\u001b[0;34m)\u001b[0m\u001b[0;34m\u001b[0m\u001b[0;34m\u001b[0m\u001b[0m\n\u001b[1;32m   1466\u001b[0m     \u001b[0;32mfrom\u001b[0m \u001b[0mmatplotlib\u001b[0m \u001b[0;32mimport\u001b[0m \u001b[0m_png\u001b[0m\u001b[0;34m\u001b[0m\u001b[0;34m\u001b[0m\u001b[0m\n",
            "\u001b[0;32m/usr/local/lib/python3.7/dist-packages/PIL/Image.py\u001b[0m in \u001b[0;36mopen\u001b[0;34m(fp, mode)\u001b[0m\n\u001b[1;32m   2841\u001b[0m \u001b[0;34m\u001b[0m\u001b[0m\n\u001b[1;32m   2842\u001b[0m     \u001b[0;32mif\u001b[0m \u001b[0mfilename\u001b[0m\u001b[0;34m:\u001b[0m\u001b[0;34m\u001b[0m\u001b[0;34m\u001b[0m\u001b[0m\n\u001b[0;32m-> 2843\u001b[0;31m         \u001b[0mfp\u001b[0m \u001b[0;34m=\u001b[0m \u001b[0mbuiltins\u001b[0m\u001b[0;34m.\u001b[0m\u001b[0mopen\u001b[0m\u001b[0;34m(\u001b[0m\u001b[0mfilename\u001b[0m\u001b[0;34m,\u001b[0m \u001b[0;34m\"rb\"\u001b[0m\u001b[0;34m)\u001b[0m\u001b[0;34m\u001b[0m\u001b[0;34m\u001b[0m\u001b[0m\n\u001b[0m\u001b[1;32m   2844\u001b[0m         \u001b[0mexclusive_fp\u001b[0m \u001b[0;34m=\u001b[0m \u001b[0;32mTrue\u001b[0m\u001b[0;34m\u001b[0m\u001b[0;34m\u001b[0m\u001b[0m\n\u001b[1;32m   2845\u001b[0m \u001b[0;34m\u001b[0m\u001b[0m\n",
            "\u001b[0;31mFileNotFoundError\u001b[0m: [Errno 2] No such file or directory: '/imgs/sterlizia.jpeg'"
          ]
        }
      ]
    },
    {
      "cell_type": "code",
      "source": [
        "img.shape"
      ],
      "metadata": {
        "id": "S6AMHstEYJk4"
      },
      "execution_count": null,
      "outputs": []
    },
    {
      "cell_type": "code",
      "source": [
        "np.concatenate((incr_arr(9).reshape(3), img))"
      ],
      "metadata": {
        "id": "k4_4w8EKYvy5"
      },
      "execution_count": null,
      "outputs": []
    }
  ]
}